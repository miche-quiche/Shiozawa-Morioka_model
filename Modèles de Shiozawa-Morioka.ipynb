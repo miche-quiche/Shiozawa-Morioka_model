{
 "cells": [
  {
   "cell_type": "markdown",
   "id": "4c4fba78",
   "metadata": {},
   "source": [
    "# Analyse input-ouput dynamique\n",
    "\n",
    "Supposons que les techniques de production d'une économie soient telles que qu'il faille une quantité $a_{i,j}$ de marchandise $i$ (les _inputs_) pour produire une unité de la marchandise $j$ (l'_ouput_) avec $a_{i,j} \\geq 0 $. Les rendements sont linéaires et les inputs doivent être fournis dans une proportion précise. On définit alors la _matrice des techniques_ $A = (a_{i,j})_{1 \\leq i,j \\leq n}$.\n",
    "\n",
    "## 1. Inverse de Léontief\n",
    "\n",
    "On suppose que les processus de production consomment tous les _inputs_ au cours d'un cycle synchronisé. Pour répondre à une demande $d \\in \\mathbb{R}_+^n$ donnée, il faut donc avoir une production brute $x \\in \\mathbb{R}_+^n$ qui vaut $d$ augmentée des _inputs_ consommés dans la production. En particulier, on a :\n",
    "$$ x = Ax + d$$\n",
    "et donc, en notant $I_n$ la matrice identité :\n",
    "$$ x = (I_n - A)^{-1}d$$\n",
    "si $(I_n - A)$ est inversible. Un théorème nous assure que, pour ce type de matrices, il faut et il suffit que le rayon spectral de $A$ soit strictement inférieur à 1 pour que $(I_n - A)$ soit inversible, d'inverse positive (dans le sens où chaque terme est positif).\n",
    "\n",
    "\n",
    "#### _Exemple_\n",
    "\n",
    "On définit la matrice des techniques suivante :\n",
    "$$\n",
    "A = \\begin{pmatrix}\n",
    "0.00 & 0.60 & 0.20 \\\\\n",
    "0.25 & 0.00 & 0.55 \\\\\n",
    "0.30 & 0.45 & 0.00 \\\\\n",
    "\\end{pmatrix}\n",
    "$$\n",
    "et la demande suivante : $$ d = \\begin{pmatrix} 95 \\\\ 105 \\\\ 120 \\\\ \\end{pmatrix}.$$"
   ]
  },
  {
   "cell_type": "code",
   "execution_count": 1,
   "id": "2fba2f14",
   "metadata": {},
   "outputs": [
    {
     "name": "stdout",
     "output_type": "stream",
     "text": [
      "Le rayon spectral de A est 0.7827638400728136\n",
      "La production brute x est [492.36935867 504.09738717 474.55463183]\n"
     ]
    }
   ],
   "source": [
    "import numpy as np\n",
    "\n",
    "def spectral_radius(M): #frobenius root\n",
    "    eigen_values,eigen_vectors = np.linalg.eig(M)\n",
    "    return max(np.absolute(eigen_values))\n",
    "\n",
    "def leontiev_inverse(M):\n",
    "    if spectral_radius(M)<1:\n",
    "        N = np.identity(3) - M\n",
    "        return np.linalg.inv(N)\n",
    "    else:\n",
    "        print(\"La matrice des techniques n'est pas productive.\")\n",
    "\n",
    "A = np.array([[0,0.6,0.2],[0.25,0,0.55],[0.3,0.45,0]])\n",
    "d = np.array([95,120,100])\n",
    "print(\"Le rayon spectral de A est\",spectral_radius(A))\n",
    "print(\"La production brute x est\",np.dot(leontiev_inverse(A),d))"
   ]
  },
  {
   "cell_type": "markdown",
   "id": "b1823a46",
   "metadata": {},
   "source": [
    "## 2. Un premier modèle dynamique : le modèle de Goodwin\n",
    "En considérant $x(t)$ la production brute décidée à la période discrète $t-1$ pour répondre à la demande du moment achevée à la période $t$ et une demande $d$ constante, on réécrit la première équation :\n",
    "$$ x(t) = Ax(t-1) + d.$$\n",
    "Heureusement, comme le rayon spectral est inférieur à 1, le système est assymptotiquement stable et converge vers $(I_n - A)^{-1}d$."
   ]
  },
  {
   "cell_type": "code",
   "execution_count": 25,
   "id": "9c8a5e64",
   "metadata": {},
   "outputs": [
    {
     "data": {
      "image/png": "[encoded data removed]",
      "text/plain": [
       "<Figure size 432x288 with 1 Axes>"
      ]
     },
     "metadata": {
      "needs_background": "light"
     },
     "output_type": "display_data"
    }
   ],
   "source": [
    "import matplotlib.pyplot as plt\n",
    "\n",
    "A = np.array([[0,0.6,0.2],[0.25,0,0.55],[0.3,0.45,0]])\n",
    "d = np.array([95,120,100])\n",
    "x_0 = np.array([400,800,300])\n",
    "t_max = 15\n",
    "x = np.zeros((t_max,3))\n",
    "x[0] = x_0\n",
    "\n",
    "for t in range(1,t_max):\n",
    "    x[t] = np.dot(A,x[t-1])+d\n",
    "\n",
    "\n",
    "plt.plot(x, 'o')\n",
    "plt.xlabel(\"Périodes t\")\n",
    "plt.ylabel(\"x(t)\")\n",
    "plt.title(\"Modèle input-output dynamique, v.1\")\n",
    "plt.legend([\"marchandise 1\",\"marchandise 2\",\"marchandise 3\"])\n",
    "plt.show()\n",
    "plt.close()"
   ]
  },
  {
   "cell_type": "markdown",
   "id": "ad99f69b",
   "metadata": {},
   "source": [
    "## 3. La séquence de Shiozawa-Morioka\n",
    "L'objet du modèle S-M est d'analyser comment les firmes de chaque secteur $j$ adaptent leurs productions selon l'évolution de la demande qu'elles anticipent en supposant qu'elles ont une certaine flexibilité grace aux stocks et inventaires de matières premières et de produits finis qu'elles détiennent. L'idée du modèle est de s'éloigner des analyses « à l'équilibre » en modélisant explicitement une séquence temporelle des actions et réflexions des firmes. À chaque période discrète $t$, il se déroule la séquence suivante (qui est supposée relever de la _routine_ au sens de H. Simons et laisser du temps et de la reflexion aux managers de haut niveau pour les décisions stratégoqies. C'est donc un modèle de très court-terme):\n",
    "1. Les firmes $ 1 \\leq j \\leq n$ actualisent les inventaires des produits qu'elles possèdent : $$z_j(t) = z_j(t-1) + x_j(t-1) - s_j(t-1)$$ où $s$ représente leurs ventes de la période précédente.\n",
    "2. Les firmes font des prévisions de vente $s_j^e(t)$ puis décident le niveau de leur prochaine production : $$x_j(t) = (1+k_j)s_j^e(t) - z_j(t)$$ avec $k_j$ une petite marge de manoeuvre qui modélise ce qu'on appelle la stratégie _make-to-stock_ (MTS) en logistique.\n",
    "3. Les firmes $j$ lancent la nouvelle production et actualisent leurs inventaires des _inputs_ $i$ : $$v_{i,j}(t) = v_{i,j}(t-1) + m_{i,j}(t-1) - a_{i,j}x_j(t)$$ avec $m_{i,j}(t-1)$ les inputs qu'elles ont commandé à la période précédente et avec la contrainte $v_{i,j}(t) \\geq 0$. Sinon, elles doivent limiter leur production $x_j(t)$.\n",
    "4. Les firmes $j$ commandent de nouveaux inputs $i$ :$$m_{i,j}(t) = (1+l_{j})a_{i,j}s_j^e(t) − v_{i,j}(t)$$ avec $l_{j}$ une peite marge de manoeuvre (la même au sein d'une firme $j$ pour tous les inputs $i$...).\n",
    "5. Les firmes $j$ vendent et envoient ce qui leur a été commandé : $$s_j(t) = \\sum_{i=1}^{n} m_{i,j}(t) + d_j$$ dans la mesure des stocks disponibles, c'est-à-dire si $s_j(t) \\leq z_j(t) + x_j(t)$.\n",
    "\n",
    "En notation matricielle, et en notant $L=\\text{diag}(l_j)$ et $K=\\text{diag}(k_j)$, on a :\n",
    "$$\n",
    "s(t) = (2I_n + K + L)A[s^e(t)-s^e(t-1)]+As(t-1)+d.\n",
    "$$\n",
    "Si les prévisions $s^e(t)$ sont constantes, on se ramène au premier système."
   ]
  },
  {
   "cell_type": "code",
   "execution_count": null,
   "id": "d6967127",
   "metadata": {},
   "outputs": [],
   "source": []
  },
  {
   "cell_type": "markdown",
   "id": "aee5961c",
   "metadata": {},
   "source": [
    "## Exploration du théorème de Scarff"
   ]
  },
  {
   "cell_type": "code",
   "execution_count": 17,
   "id": "11f44ae5",
   "metadata": {},
   "outputs": [
    {
     "name": "stdout",
     "output_type": "stream",
     "text": [
      "38.79752723351859\n"
     ]
    }
   ],
   "source": [
    "import random as random\n",
    "\n",
    "# Loi exponentielle\n",
    "\n",
    "    #parametre = 0.01\n",
    "    #mu = 1/parametre\n",
    "    #sigma = 1/parametre\n",
    "    #r = random.expovariate(parametre)\n",
    "    \n",
    "t_max = 54\n",
    "    \n",
    "z_0 = 100 #inventaire\n",
    "x_0 = 80 #production\n",
    "s_0 = 80 #ventes\n",
    "d_0 = 80 #demande\n",
    "\n",
    "c = 1 # coût unitaire constant (hypothèse importante dans le théorème de Scarff)\n",
    "m = 0.2\n",
    "p = c*(1+m)\n",
    "\n",
    "y[t] = z[t-1] + x[t]\n",
    "s[t] = min(y[t],d[t]) # « short-side rule » dans la terminologie d'Arrow et al.\n",
    "z[t] = y[t] - s[t]\n",
    "\n",
    "y_target = (1+k)mu # resultat de Scarff\n",
    "\n",
    "x[t] = max(y_target - z[t],0)"
   ]
  },
  {
   "cell_type": "code",
   "execution_count": 35,
   "id": "4e74d55e",
   "metadata": {},
   "outputs": [
    {
     "data": {
      "image/png": "[encoded data removed]",
      "text/plain": [
       "<Figure size 576x432 with 1 Axes>"
      ]
     },
     "metadata": {},
     "output_type": "display_data"
    }
   ],
   "source": [
    "import matplotlib.pyplot as plt\n",
    "import numpy as np\n",
    "\n",
    "# Créer le graphique et les axes\n",
    "fig, ax = plt.subplots(figsize=(8, 6))\n",
    "\n",
    "# Dessiner les axes avec flèches\n",
    "ax.arrow(-0.05, 0, 1.15, 0, head_width=0.03, head_length=0.05, fc='black', ec='black')\n",
    "ax.arrow(0, -0.05, 0, 1.15, head_width=0.03, head_length=0.05, fc='black', ec='black')\n",
    "\n",
    "# Masquer les axes par défaut\n",
    "ax.spines['left'].set_color('none')\n",
    "ax.spines['bottom'].set_color('none')\n",
    "ax.spines['right'].set_color('none')\n",
    "ax.spines['top'].set_color('none')\n",
    "\n",
    "# Supprimer les graduations\n",
    "ax.set_xticks([])\n",
    "ax.set_yticks([])\n",
    "\n",
    "# Définir les limites des axes\n",
    "ax.set_xlim(-0.1, 1.1)\n",
    "ax.set_ylim(-0.1, 1.1)\n",
    "\n",
    "# Tracer des données factices\n",
    "x = np.linspace(0.2, 1, 10)\n",
    "y = x ** 2\n",
    "ax.plot(x, y, marker='o', label='Données')\n",
    "\n",
    "# Ajouter des étiquettes aux axes dessinés\n",
    "ax.set_xlabel(\"Axe des abscisses\")\n",
    "ax.set_ylabel(\"Axe des ordonnées\")\n",
    "\n",
    "# Afficher le graphique\n",
    "plt.show()\n"
   ]
  },
  {
   "cell_type": "code",
   "execution_count": 36,
   "id": "2153a564",
   "metadata": {},
   "outputs": [
    {
     "data": {
      "image/png": "[encoded data removed]",
      "text/plain": [
       "<Figure size 576x432 with 1 Axes>"
      ]
     },
     "metadata": {},
     "output_type": "display_data"
    }
   ],
   "source": [
    "import matplotlib.pyplot as plt\n",
    "import numpy as np\n",
    "\n",
    "# Créer le graphique et les axes\n",
    "fig, ax = plt.subplots(figsize=(8, 6))\n",
    "\n",
    "# Dessiner les flèches pour les axes des abscisses et des ordonnées\n",
    "ax.arrow(0, 0, 1.1, 0, head_width=0.03, head_length=0.05, fc='black', ec='black')\n",
    "ax.arrow(0, 0, 0, 1.1, head_width=0.03, head_length=0.05, fc='black', ec='black')\n",
    "\n",
    "# Ajouter une ligne pour la jonction des axes\n",
    "ax.plot([0], [0], marker='o', markersize=5, color='black')\n",
    "\n",
    "# Masquer les axes par défaut\n",
    "ax.spines['left'].set_color('none')\n",
    "ax.spines['bottom'].set_color('none')\n",
    "ax.spines['right'].set_color('none')\n",
    "ax.spines['top'].set_color('none')\n",
    "\n",
    "# Supprimer les graduations\n",
    "ax.set_xticks([])\n",
    "ax.set_yticks([])\n",
    "\n",
    "# Définir les limites des axes\n",
    "ax.set_xlim(-0.1, 1.1)\n",
    "ax.set_ylim(-0.1, 1.1)\n",
    "\n",
    "# Tracer des données factices\n",
    "x = np.linspace(0.2, 1, 10)\n",
    "y = x ** 2\n",
    "ax.plot(x, y, marker='o', label='Données')\n",
    "\n",
    "# Ajouter des étiquettes aux axes dessinés\n",
    "ax.set_xlabel(\"Axe des abscisses\")\n",
    "ax.set_ylabel(\"Axe des ordonnées\")\n",
    "\n",
    "# Afficher le graphique\n",
    "plt.show()"
   ]
  },
  {
   "cell_type": "code",
   "execution_count": null,
   "id": "55509707",
   "metadata": {},
   "outputs": [],
   "source": []
  }
 ],
 "metadata": {
  "kernelspec": {
   "display_name": "Python 3 (ipykernel)",
   "language": "python",
   "name": "python3"
  },
  "language_info": {
   "codemirror_mode": {
    "name": "ipython",
    "version": 3
   },
   "file_extension": ".py",
   "mimetype": "text/x-python",
   "name": "python",
   "nbconvert_exporter": "python",
   "pygments_lexer": "ipython3",
   "version": "3.9.12"
  }
 },
 "nbformat": 4,
 "nbformat_minor": 5
}
